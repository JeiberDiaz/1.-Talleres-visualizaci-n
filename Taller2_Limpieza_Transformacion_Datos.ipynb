{
  "cells": [
    {
      "cell_type": "markdown",
      "metadata": {
        "toc": true,
        "id": "VrlHpdPZMsTf"
      },
      "source": [
        "<h1>Table of Contents<span class=\"tocSkip\"></span></h1>\n",
        "<div class=\"toc\"><ul class=\"toc-item\"><li><span><a href=\"#Ejercicio-Fechas-Publicación\" data-toc-modified-id=\"Ejercicio-Fechas-Publicación-1\"><span class=\"toc-item-num\">1&nbsp;&nbsp;</span>Ejercicio Fechas Publicación</a></span></li><li><span><a href=\"#Ejercicio-Tipo-de-Contrato-y-Subtipo-de-Contrato\" data-toc-modified-id=\"Ejercicio-Tipo-de-Contrato-y-Subtipo-de-Contrato-2\"><span class=\"toc-item-num\">2&nbsp;&nbsp;</span>Ejercicio Tipo de Contrato y Subtipo de Contrato</a></span></li><li><span><a href=\"#Ejercicio-Duración-del-contrato\" data-toc-modified-id=\"Ejercicio-Duración-del-contrato-3\"><span class=\"toc-item-num\">3&nbsp;&nbsp;</span>Ejercicio Duración del contrato</a></span></li></ul></div>"
      ]
    },
    {
      "cell_type": "markdown",
      "metadata": {
        "id": "qlCpPWaqMsTm"
      },
      "source": [
        "# Ejercicios Limpieza de Datos <a class=\"tocSkip\">\n",
        "\n",
        "por Mónica Tatiana Gutierrez B\n",
        "\n",
        "version 0.1, Feb 2021\n",
        "\n",
        "Parte de la clase Curso de visualización para ciencia de datos en Python"
      ]
    },
    {
      "cell_type": "code",
      "execution_count": 1,
      "metadata": {
        "ExecuteTime": {
          "end_time": "2021-03-01T03:42:20.681744Z",
          "start_time": "2021-03-01T03:42:19.827059Z"
        },
        "id": "Lwidb3PCMsTo"
      },
      "outputs": [],
      "source": [
        "import pandas as pd\n",
        "import numpy as np\n",
        "pd.set_option('display.max_columns', None) #Mostrar todas las columnas"
      ]
    },
    {
      "cell_type": "code",
      "source": [
        "from google.colab import drive\n",
        "drive.mount('/content/drive')"
      ],
      "metadata": {
        "colab": {
          "base_uri": "https://localhost:8080/"
        },
        "id": "juM-SLYcOJgq",
        "outputId": "289aca8d-ea60-4437-fa40-13f7befb5438"
      },
      "execution_count": 2,
      "outputs": [
        {
          "output_type": "stream",
          "name": "stdout",
          "text": [
            "Drive already mounted at /content/drive; to attempt to forcibly remount, call drive.mount(\"/content/drive\", force_remount=True).\n"
          ]
        }
      ]
    },
    {
      "cell_type": "code",
      "execution_count": 3,
      "metadata": {
        "ExecuteTime": {
          "end_time": "2021-03-01T03:42:27.489283Z",
          "start_time": "2021-03-01T03:42:20.684746Z"
        },
        "id": "eahCzps3MsTr"
      },
      "outputs": [],
      "source": [
        "df_SECOP = pd.read_csv('/content/drive/MyDrive/Colab Notebooks/Visualización - Clases/SECOP_II_-_Procesos_de_Contrataci_n.csv', \n",
        "                 sep = ',',\n",
        "                 thousands=',', decimal='.',\n",
        "                 skip_blank_lines=True,\n",
        "                 low_memory = False,\n",
        "                 dtype={\n",
        "                     'Nit Entidad': str\n",
        "                 })"
      ]
    },
    {
      "cell_type": "code",
      "source": [
        "columns = ['Entidad',\n",
        "          'Nit Entidad',\n",
        "          'Departamento Entidad',\n",
        "          'Ciudad Entidad',\n",
        "          'OrdenEntidad',\n",
        "          'ID del Proceso',\n",
        "          'Referencia del Proceso',\n",
        "          'ID del Portafolio',\n",
        "          'Nombre del Procedimiento',\n",
        "          'Fase',\n",
        "          'Fecha de Publicacion del Proceso',\n",
        "          'Fecha de Ultima Publicación',\n",
        "          'Precio Base',\n",
        "          'Modalidad de Contratacion',\n",
        "          'Duracion',\n",
        "          'Unidad de Duracion',\n",
        "          'Adjudicado',\n",
        "          'ID Adjudicacion',\n",
        "          'CodigoProveedor',\n",
        "          'Nombre del Proveedor Adjudicado',\n",
        "          'NIT del Proveedor Adjudicado',\n",
        "          'Departamento Proveedor',\n",
        "          'Ciudad Proveedor',\n",
        "          'Valor Total Adjudicacion',\n",
        "          'Tipo de Contrato',\n",
        "          'Subtipo de Contrato']\n",
        "df_SECOP0 = df_SECOP.copy()\n",
        "df_SECOP0 = df_SECOP0[columns]\n",
        "df_SECOP0.dtypes()"
      ],
      "metadata": {
        "colab": {
          "base_uri": "https://localhost:8080/",
          "height": 991
        },
        "id": "YlLvwX9NPGvJ",
        "outputId": "bc68b398-6e79-4f9f-ea09-bc1cd96b7f41"
      },
      "execution_count": 4,
      "outputs": [
        {
          "output_type": "execute_result",
          "data": {
            "text/plain": [
              "                                                   Entidad Nit Entidad  \\\n",
              "0                                 CAMARA DE REPRESENTANTES   899999098   \n",
              "1                       ALCALDIA MUNICIPIO DE DOSQUEBRADAS   800099310   \n",
              "2                                     MUNICIPIO DE SEVILLA   800100527   \n",
              "3        SENA REGIONAL ANTIOQUIA Grupo Administrativo I...   899999034   \n",
              "4                            ALCALDIA MUNICIPAL FUSAGASUGA   890680008   \n",
              "...                                                    ...         ...   \n",
              "1688329       SIC SUPERINTENDENCIA DE INDUSTRIA Y COMERCIO   800176089   \n",
              "1688330  PARQUES NACIONALES NATURALES DE COLOMBIA - DIR...   804001738   \n",
              "1688331                        RED DE SALUD DEL CENTRO ESE   805027261   \n",
              "1688332                                       CLUB MILITAR   860016951   \n",
              "1688333            INSTITUTO COLOMBIANO AGROPECUARIO - ICA   899999069   \n",
              "\n",
              "               Departamento Entidad Ciudad Entidad OrdenEntidad  \\\n",
              "0        Distrito Capital de Bogotá         Bogotá     Nacional   \n",
              "1                       No Definido    No Definido  Territorial   \n",
              "2                       No Definido    No Definido  Territorial   \n",
              "3                         Antioquia       Medellín     Nacional   \n",
              "4                       No Definido    No Definido  Territorial   \n",
              "...                             ...            ...          ...   \n",
              "1688329  Distrito Capital de Bogotá         Bogotá     Nacional   \n",
              "1688330                 No Definido    No Definido  Territorial   \n",
              "1688331                 No Definido    No Definido  Territorial   \n",
              "1688332                Cundinamarca           Nilo     Nacional   \n",
              "1688333                 No Definido    No Definido     Nacional   \n",
              "\n",
              "          ID del Proceso                Referencia del Proceso  \\\n",
              "0        CO1.REQ.1360997                          CPS_500_2020   \n",
              "1        CO1.REQ.2092600                          CD-1358-2021   \n",
              "2        CO1.REQ.2323483  OAP-200-2021-SEVILLA,VALLE DEL CAUCA   \n",
              "3        CO1.REQ.1774686                 PSP-ANT-CTGI-029-2021   \n",
              "4        CO1.REQ.1749934                        CPSP 2020-0053   \n",
              "...                  ...                                   ...   \n",
              "1688329  CO1.REQ.2568291                  CONTRATO 288 DE 2022   \n",
              "1688330  CO1.REQ.1112729                      DTAN-CD-050-2020   \n",
              "1688331  CO1.REQ.1921087                          C.A.474-2021   \n",
              "1688332   CO1.REQ.661805              CD.629-2018 CLUB MILITAR   \n",
              "1688333  CO1.REQ.1940957                 SAF-SAF-OFN-0008-2021   \n",
              "\n",
              "        ID del Portafolio                           Nombre del Procedimiento  \\\n",
              "0        CO1.BDOS.1319648                                       CPS_500_2020   \n",
              "1        CO1.BDOS.2036051  SERVICIOS PROFESIONALES DE APOYO AL PROGRAMA D...   \n",
              "2        CO1.BDOS.2260690                            PRESTACION DE SERVICIOS   \n",
              "3        CO1.BDOS.1724265  PRESTAR LOS SERVICIOS PROFESIONALES DE CARACTE...   \n",
              "4        CO1.BDOS.1699744  PRESTACIÓN DE SERVICIOS DE APOYO A LA GESTION ...   \n",
              "...                   ...                                                ...   \n",
              "1688329  CO1.BDOS.2493089                               CONTRATO 288 DE 2022   \n",
              "1688330  CO1.BDOS.1076241  OPERARIO INVESTIGACIÓN Y MONITOREO - PNN EL COCUY   \n",
              "1688331  CO1.BDOS.1869785                            PRESTACIÓN DE SERVICIOS   \n",
              "1688332   CO1.BDOS.640305  prestar los servicios para apoyo a la gestión ...   \n",
              "1688333  CO1.BDOS.1889233  Prestación de servicios profesionales especial...   \n",
              "\n",
              "                           Fase Fecha de Publicacion del Proceso  \\\n",
              "0                   No Definido                              NaN   \n",
              "1                   No Definido                              NaN   \n",
              "2                   No Definido                              NaN   \n",
              "3                   No Definido                              NaN   \n",
              "4                   No Definido                              NaN   \n",
              "...                         ...                              ...   \n",
              "1688329  Presentación de oferta                       01/11/2022   \n",
              "1688330  Presentación de oferta                       01/30/2020   \n",
              "1688331  Presentación de oferta                       03/23/2021   \n",
              "1688332  Presentación de oferta                       12/22/2018   \n",
              "1688333  Presentación de oferta                       03/31/2021   \n",
              "\n",
              "        Fecha de Ultima Publicación  Precio Base  \\\n",
              "0                               NaN           -1   \n",
              "1                               NaN     21450000   \n",
              "2                               NaN      6000000   \n",
              "3                               NaN            0   \n",
              "4                               NaN     12480000   \n",
              "...                             ...          ...   \n",
              "1688329                  01/11/2022     28347694   \n",
              "1688330                  01/30/2020     16588321   \n",
              "1688331                  03/23/2021       529550   \n",
              "1688332                  12/21/2018      3757000   \n",
              "1688333                  03/31/2021     68573333   \n",
              "\n",
              "                  Modalidad de Contratacion  Duracion Unidad de Duracion  \\\n",
              "0        Contratación Directa (con ofertas)         6              Meses   \n",
              "1                      Contratación directa       195               Dias   \n",
              "2                      Contratación directa         3              Meses   \n",
              "3                      Contratación directa       314               Dias   \n",
              "4                      Contratación directa       225               Dias   \n",
              "...                                     ...       ...                ...   \n",
              "1688329                Contratación directa       348               Dias   \n",
              "1688330                Contratación directa       319               Dias   \n",
              "1688331       Contratación régimen especial         1               Dias   \n",
              "1688332                Contratación directa        90               Dias   \n",
              "1688333                Contratación directa       280               Dias   \n",
              "\n",
              "        Adjudicado ID Adjudicacion CodigoProveedor  \\\n",
              "0               No   No Adjudicado   No Adjudicado   \n",
              "1               No   No Adjudicado   No Adjudicado   \n",
              "2               No   No Adjudicado   No Adjudicado   \n",
              "3               No   No Adjudicado   No Adjudicado   \n",
              "4               No   No Adjudicado   No Adjudicado   \n",
              "...            ...             ...             ...   \n",
              "1688329         No   No Adjudicado   No Adjudicado   \n",
              "1688330         No   No Adjudicado   No Adjudicado   \n",
              "1688331         No   No Adjudicado   No Adjudicado   \n",
              "1688332         No   No Adjudicado   No Adjudicado   \n",
              "1688333         No   No Adjudicado   No Adjudicado   \n",
              "\n",
              "        Nombre del Proveedor Adjudicado NIT del Proveedor Adjudicado  \\\n",
              "0                         No Adjudicado                No Adjudicado   \n",
              "1                         No Adjudicado                No Adjudicado   \n",
              "2                         No Adjudicado                No Adjudicado   \n",
              "3                         No Adjudicado                No Adjudicado   \n",
              "4                         No Adjudicado                No Adjudicado   \n",
              "...                                 ...                          ...   \n",
              "1688329                   No Adjudicado                No Adjudicado   \n",
              "1688330                   No Adjudicado                No Adjudicado   \n",
              "1688331                   No Adjudicado                No Adjudicado   \n",
              "1688332                   No Adjudicado                No Adjudicado   \n",
              "1688333                   No Adjudicado                No Adjudicado   \n",
              "\n",
              "        Departamento Proveedor Ciudad Proveedor  Valor Total Adjudicacion  \\\n",
              "0                    No aplica        No aplica                         0   \n",
              "1                    No aplica        No aplica                         0   \n",
              "2                    No aplica        No aplica                         0   \n",
              "3                    No aplica        No aplica                         0   \n",
              "4                    No aplica        No aplica                         0   \n",
              "...                        ...              ...                       ...   \n",
              "1688329              No aplica        No aplica                         0   \n",
              "1688330              No aplica        No aplica                         0   \n",
              "1688331              No aplica        No aplica                         0   \n",
              "1688332              No aplica        No aplica                         0   \n",
              "1688333              No aplica        No aplica                         0   \n",
              "\n",
              "                       Tipo de Contrato Subtipo de Contrato  \n",
              "0                  27 - Otros servicios     No Especificado  \n",
              "1        Servicios de aprovisionamiento     No Especificado  \n",
              "2        Servicios de aprovisionamiento     No Especificado  \n",
              "3        Servicios de aprovisionamiento     No Especificado  \n",
              "4        Servicios de aprovisionamiento     No Especificado  \n",
              "...                                 ...                 ...  \n",
              "1688329  Servicios de aprovisionamiento     No Especificado  \n",
              "1688330  Servicios de aprovisionamiento     No Especificado  \n",
              "1688331             Decreto 092 de 2017     No Especificado  \n",
              "1688332  Servicios de aprovisionamiento     No Especificado  \n",
              "1688333  Servicios de aprovisionamiento     No Especificado  \n",
              "\n",
              "[1688334 rows x 26 columns]"
            ],
            "text/html": [
              "\n",
              "  <div id=\"df-109cf4c3-6f35-4d43-adc9-6ceb1beec8ab\">\n",
              "    <div class=\"colab-df-container\">\n",
              "      <div>\n",
              "<style scoped>\n",
              "    .dataframe tbody tr th:only-of-type {\n",
              "        vertical-align: middle;\n",
              "    }\n",
              "\n",
              "    .dataframe tbody tr th {\n",
              "        vertical-align: top;\n",
              "    }\n",
              "\n",
              "    .dataframe thead th {\n",
              "        text-align: right;\n",
              "    }\n",
              "</style>\n",
              "<table border=\"1\" class=\"dataframe\">\n",
              "  <thead>\n",
              "    <tr style=\"text-align: right;\">\n",
              "      <th></th>\n",
              "      <th>Entidad</th>\n",
              "      <th>Nit Entidad</th>\n",
              "      <th>Departamento Entidad</th>\n",
              "      <th>Ciudad Entidad</th>\n",
              "      <th>OrdenEntidad</th>\n",
              "      <th>ID del Proceso</th>\n",
              "      <th>Referencia del Proceso</th>\n",
              "      <th>ID del Portafolio</th>\n",
              "      <th>Nombre del Procedimiento</th>\n",
              "      <th>Fase</th>\n",
              "      <th>Fecha de Publicacion del Proceso</th>\n",
              "      <th>Fecha de Ultima Publicación</th>\n",
              "      <th>Precio Base</th>\n",
              "      <th>Modalidad de Contratacion</th>\n",
              "      <th>Duracion</th>\n",
              "      <th>Unidad de Duracion</th>\n",
              "      <th>Adjudicado</th>\n",
              "      <th>ID Adjudicacion</th>\n",
              "      <th>CodigoProveedor</th>\n",
              "      <th>Nombre del Proveedor Adjudicado</th>\n",
              "      <th>NIT del Proveedor Adjudicado</th>\n",
              "      <th>Departamento Proveedor</th>\n",
              "      <th>Ciudad Proveedor</th>\n",
              "      <th>Valor Total Adjudicacion</th>\n",
              "      <th>Tipo de Contrato</th>\n",
              "      <th>Subtipo de Contrato</th>\n",
              "    </tr>\n",
              "  </thead>\n",
              "  <tbody>\n",
              "    <tr>\n",
              "      <th>0</th>\n",
              "      <td>CAMARA DE REPRESENTANTES</td>\n",
              "      <td>899999098</td>\n",
              "      <td>Distrito Capital de Bogotá</td>\n",
              "      <td>Bogotá</td>\n",
              "      <td>Nacional</td>\n",
              "      <td>CO1.REQ.1360997</td>\n",
              "      <td>CPS_500_2020</td>\n",
              "      <td>CO1.BDOS.1319648</td>\n",
              "      <td>CPS_500_2020</td>\n",
              "      <td>No Definido</td>\n",
              "      <td>NaN</td>\n",
              "      <td>NaN</td>\n",
              "      <td>-1</td>\n",
              "      <td>Contratación Directa (con ofertas)</td>\n",
              "      <td>6</td>\n",
              "      <td>Meses</td>\n",
              "      <td>No</td>\n",
              "      <td>No Adjudicado</td>\n",
              "      <td>No Adjudicado</td>\n",
              "      <td>No Adjudicado</td>\n",
              "      <td>No Adjudicado</td>\n",
              "      <td>No aplica</td>\n",
              "      <td>No aplica</td>\n",
              "      <td>0</td>\n",
              "      <td>27 - Otros servicios</td>\n",
              "      <td>No Especificado</td>\n",
              "    </tr>\n",
              "    <tr>\n",
              "      <th>1</th>\n",
              "      <td>ALCALDIA MUNICIPIO DE DOSQUEBRADAS</td>\n",
              "      <td>800099310</td>\n",
              "      <td>No Definido</td>\n",
              "      <td>No Definido</td>\n",
              "      <td>Territorial</td>\n",
              "      <td>CO1.REQ.2092600</td>\n",
              "      <td>CD-1358-2021</td>\n",
              "      <td>CO1.BDOS.2036051</td>\n",
              "      <td>SERVICIOS PROFESIONALES DE APOYO AL PROGRAMA D...</td>\n",
              "      <td>No Definido</td>\n",
              "      <td>NaN</td>\n",
              "      <td>NaN</td>\n",
              "      <td>21450000</td>\n",
              "      <td>Contratación directa</td>\n",
              "      <td>195</td>\n",
              "      <td>Dias</td>\n",
              "      <td>No</td>\n",
              "      <td>No Adjudicado</td>\n",
              "      <td>No Adjudicado</td>\n",
              "      <td>No Adjudicado</td>\n",
              "      <td>No Adjudicado</td>\n",
              "      <td>No aplica</td>\n",
              "      <td>No aplica</td>\n",
              "      <td>0</td>\n",
              "      <td>Servicios de aprovisionamiento</td>\n",
              "      <td>No Especificado</td>\n",
              "    </tr>\n",
              "    <tr>\n",
              "      <th>2</th>\n",
              "      <td>MUNICIPIO DE SEVILLA</td>\n",
              "      <td>800100527</td>\n",
              "      <td>No Definido</td>\n",
              "      <td>No Definido</td>\n",
              "      <td>Territorial</td>\n",
              "      <td>CO1.REQ.2323483</td>\n",
              "      <td>OAP-200-2021-SEVILLA,VALLE DEL CAUCA</td>\n",
              "      <td>CO1.BDOS.2260690</td>\n",
              "      <td>PRESTACION DE SERVICIOS</td>\n",
              "      <td>No Definido</td>\n",
              "      <td>NaN</td>\n",
              "      <td>NaN</td>\n",
              "      <td>6000000</td>\n",
              "      <td>Contratación directa</td>\n",
              "      <td>3</td>\n",
              "      <td>Meses</td>\n",
              "      <td>No</td>\n",
              "      <td>No Adjudicado</td>\n",
              "      <td>No Adjudicado</td>\n",
              "      <td>No Adjudicado</td>\n",
              "      <td>No Adjudicado</td>\n",
              "      <td>No aplica</td>\n",
              "      <td>No aplica</td>\n",
              "      <td>0</td>\n",
              "      <td>Servicios de aprovisionamiento</td>\n",
              "      <td>No Especificado</td>\n",
              "    </tr>\n",
              "    <tr>\n",
              "      <th>3</th>\n",
              "      <td>SENA REGIONAL ANTIOQUIA Grupo Administrativo I...</td>\n",
              "      <td>899999034</td>\n",
              "      <td>Antioquia</td>\n",
              "      <td>Medellín</td>\n",
              "      <td>Nacional</td>\n",
              "      <td>CO1.REQ.1774686</td>\n",
              "      <td>PSP-ANT-CTGI-029-2021</td>\n",
              "      <td>CO1.BDOS.1724265</td>\n",
              "      <td>PRESTAR LOS SERVICIOS PROFESIONALES DE CARACTE...</td>\n",
              "      <td>No Definido</td>\n",
              "      <td>NaN</td>\n",
              "      <td>NaN</td>\n",
              "      <td>0</td>\n",
              "      <td>Contratación directa</td>\n",
              "      <td>314</td>\n",
              "      <td>Dias</td>\n",
              "      <td>No</td>\n",
              "      <td>No Adjudicado</td>\n",
              "      <td>No Adjudicado</td>\n",
              "      <td>No Adjudicado</td>\n",
              "      <td>No Adjudicado</td>\n",
              "      <td>No aplica</td>\n",
              "      <td>No aplica</td>\n",
              "      <td>0</td>\n",
              "      <td>Servicios de aprovisionamiento</td>\n",
              "      <td>No Especificado</td>\n",
              "    </tr>\n",
              "    <tr>\n",
              "      <th>4</th>\n",
              "      <td>ALCALDIA MUNICIPAL FUSAGASUGA</td>\n",
              "      <td>890680008</td>\n",
              "      <td>No Definido</td>\n",
              "      <td>No Definido</td>\n",
              "      <td>Territorial</td>\n",
              "      <td>CO1.REQ.1749934</td>\n",
              "      <td>CPSP 2020-0053</td>\n",
              "      <td>CO1.BDOS.1699744</td>\n",
              "      <td>PRESTACIÓN DE SERVICIOS DE APOYO A LA GESTION ...</td>\n",
              "      <td>No Definido</td>\n",
              "      <td>NaN</td>\n",
              "      <td>NaN</td>\n",
              "      <td>12480000</td>\n",
              "      <td>Contratación directa</td>\n",
              "      <td>225</td>\n",
              "      <td>Dias</td>\n",
              "      <td>No</td>\n",
              "      <td>No Adjudicado</td>\n",
              "      <td>No Adjudicado</td>\n",
              "      <td>No Adjudicado</td>\n",
              "      <td>No Adjudicado</td>\n",
              "      <td>No aplica</td>\n",
              "      <td>No aplica</td>\n",
              "      <td>0</td>\n",
              "      <td>Servicios de aprovisionamiento</td>\n",
              "      <td>No Especificado</td>\n",
              "    </tr>\n",
              "    <tr>\n",
              "      <th>...</th>\n",
              "      <td>...</td>\n",
              "      <td>...</td>\n",
              "      <td>...</td>\n",
              "      <td>...</td>\n",
              "      <td>...</td>\n",
              "      <td>...</td>\n",
              "      <td>...</td>\n",
              "      <td>...</td>\n",
              "      <td>...</td>\n",
              "      <td>...</td>\n",
              "      <td>...</td>\n",
              "      <td>...</td>\n",
              "      <td>...</td>\n",
              "      <td>...</td>\n",
              "      <td>...</td>\n",
              "      <td>...</td>\n",
              "      <td>...</td>\n",
              "      <td>...</td>\n",
              "      <td>...</td>\n",
              "      <td>...</td>\n",
              "      <td>...</td>\n",
              "      <td>...</td>\n",
              "      <td>...</td>\n",
              "      <td>...</td>\n",
              "      <td>...</td>\n",
              "      <td>...</td>\n",
              "    </tr>\n",
              "    <tr>\n",
              "      <th>1688329</th>\n",
              "      <td>SIC SUPERINTENDENCIA DE INDUSTRIA Y COMERCIO</td>\n",
              "      <td>800176089</td>\n",
              "      <td>Distrito Capital de Bogotá</td>\n",
              "      <td>Bogotá</td>\n",
              "      <td>Nacional</td>\n",
              "      <td>CO1.REQ.2568291</td>\n",
              "      <td>CONTRATO 288 DE 2022</td>\n",
              "      <td>CO1.BDOS.2493089</td>\n",
              "      <td>CONTRATO 288 DE 2022</td>\n",
              "      <td>Presentación de oferta</td>\n",
              "      <td>01/11/2022</td>\n",
              "      <td>01/11/2022</td>\n",
              "      <td>28347694</td>\n",
              "      <td>Contratación directa</td>\n",
              "      <td>348</td>\n",
              "      <td>Dias</td>\n",
              "      <td>No</td>\n",
              "      <td>No Adjudicado</td>\n",
              "      <td>No Adjudicado</td>\n",
              "      <td>No Adjudicado</td>\n",
              "      <td>No Adjudicado</td>\n",
              "      <td>No aplica</td>\n",
              "      <td>No aplica</td>\n",
              "      <td>0</td>\n",
              "      <td>Servicios de aprovisionamiento</td>\n",
              "      <td>No Especificado</td>\n",
              "    </tr>\n",
              "    <tr>\n",
              "      <th>1688330</th>\n",
              "      <td>PARQUES NACIONALES NATURALES DE COLOMBIA - DIR...</td>\n",
              "      <td>804001738</td>\n",
              "      <td>No Definido</td>\n",
              "      <td>No Definido</td>\n",
              "      <td>Territorial</td>\n",
              "      <td>CO1.REQ.1112729</td>\n",
              "      <td>DTAN-CD-050-2020</td>\n",
              "      <td>CO1.BDOS.1076241</td>\n",
              "      <td>OPERARIO INVESTIGACIÓN Y MONITOREO - PNN EL COCUY</td>\n",
              "      <td>Presentación de oferta</td>\n",
              "      <td>01/30/2020</td>\n",
              "      <td>01/30/2020</td>\n",
              "      <td>16588321</td>\n",
              "      <td>Contratación directa</td>\n",
              "      <td>319</td>\n",
              "      <td>Dias</td>\n",
              "      <td>No</td>\n",
              "      <td>No Adjudicado</td>\n",
              "      <td>No Adjudicado</td>\n",
              "      <td>No Adjudicado</td>\n",
              "      <td>No Adjudicado</td>\n",
              "      <td>No aplica</td>\n",
              "      <td>No aplica</td>\n",
              "      <td>0</td>\n",
              "      <td>Servicios de aprovisionamiento</td>\n",
              "      <td>No Especificado</td>\n",
              "    </tr>\n",
              "    <tr>\n",
              "      <th>1688331</th>\n",
              "      <td>RED DE SALUD DEL CENTRO ESE</td>\n",
              "      <td>805027261</td>\n",
              "      <td>No Definido</td>\n",
              "      <td>No Definido</td>\n",
              "      <td>Territorial</td>\n",
              "      <td>CO1.REQ.1921087</td>\n",
              "      <td>C.A.474-2021</td>\n",
              "      <td>CO1.BDOS.1869785</td>\n",
              "      <td>PRESTACIÓN DE SERVICIOS</td>\n",
              "      <td>Presentación de oferta</td>\n",
              "      <td>03/23/2021</td>\n",
              "      <td>03/23/2021</td>\n",
              "      <td>529550</td>\n",
              "      <td>Contratación régimen especial</td>\n",
              "      <td>1</td>\n",
              "      <td>Dias</td>\n",
              "      <td>No</td>\n",
              "      <td>No Adjudicado</td>\n",
              "      <td>No Adjudicado</td>\n",
              "      <td>No Adjudicado</td>\n",
              "      <td>No Adjudicado</td>\n",
              "      <td>No aplica</td>\n",
              "      <td>No aplica</td>\n",
              "      <td>0</td>\n",
              "      <td>Decreto 092 de 2017</td>\n",
              "      <td>No Especificado</td>\n",
              "    </tr>\n",
              "    <tr>\n",
              "      <th>1688332</th>\n",
              "      <td>CLUB MILITAR</td>\n",
              "      <td>860016951</td>\n",
              "      <td>Cundinamarca</td>\n",
              "      <td>Nilo</td>\n",
              "      <td>Nacional</td>\n",
              "      <td>CO1.REQ.661805</td>\n",
              "      <td>CD.629-2018 CLUB MILITAR</td>\n",
              "      <td>CO1.BDOS.640305</td>\n",
              "      <td>prestar los servicios para apoyo a la gestión ...</td>\n",
              "      <td>Presentación de oferta</td>\n",
              "      <td>12/22/2018</td>\n",
              "      <td>12/21/2018</td>\n",
              "      <td>3757000</td>\n",
              "      <td>Contratación directa</td>\n",
              "      <td>90</td>\n",
              "      <td>Dias</td>\n",
              "      <td>No</td>\n",
              "      <td>No Adjudicado</td>\n",
              "      <td>No Adjudicado</td>\n",
              "      <td>No Adjudicado</td>\n",
              "      <td>No Adjudicado</td>\n",
              "      <td>No aplica</td>\n",
              "      <td>No aplica</td>\n",
              "      <td>0</td>\n",
              "      <td>Servicios de aprovisionamiento</td>\n",
              "      <td>No Especificado</td>\n",
              "    </tr>\n",
              "    <tr>\n",
              "      <th>1688333</th>\n",
              "      <td>INSTITUTO COLOMBIANO AGROPECUARIO - ICA</td>\n",
              "      <td>899999069</td>\n",
              "      <td>No Definido</td>\n",
              "      <td>No Definido</td>\n",
              "      <td>Nacional</td>\n",
              "      <td>CO1.REQ.1940957</td>\n",
              "      <td>SAF-SAF-OFN-0008-2021</td>\n",
              "      <td>CO1.BDOS.1889233</td>\n",
              "      <td>Prestación de servicios profesionales especial...</td>\n",
              "      <td>Presentación de oferta</td>\n",
              "      <td>03/31/2021</td>\n",
              "      <td>03/31/2021</td>\n",
              "      <td>68573333</td>\n",
              "      <td>Contratación directa</td>\n",
              "      <td>280</td>\n",
              "      <td>Dias</td>\n",
              "      <td>No</td>\n",
              "      <td>No Adjudicado</td>\n",
              "      <td>No Adjudicado</td>\n",
              "      <td>No Adjudicado</td>\n",
              "      <td>No Adjudicado</td>\n",
              "      <td>No aplica</td>\n",
              "      <td>No aplica</td>\n",
              "      <td>0</td>\n",
              "      <td>Servicios de aprovisionamiento</td>\n",
              "      <td>No Especificado</td>\n",
              "    </tr>\n",
              "  </tbody>\n",
              "</table>\n",
              "<p>1688334 rows × 26 columns</p>\n",
              "</div>\n",
              "      <button class=\"colab-df-convert\" onclick=\"convertToInteractive('df-109cf4c3-6f35-4d43-adc9-6ceb1beec8ab')\"\n",
              "              title=\"Convert this dataframe to an interactive table.\"\n",
              "              style=\"display:none;\">\n",
              "        \n",
              "  <svg xmlns=\"http://www.w3.org/2000/svg\" height=\"24px\"viewBox=\"0 0 24 24\"\n",
              "       width=\"24px\">\n",
              "    <path d=\"M0 0h24v24H0V0z\" fill=\"none\"/>\n",
              "    <path d=\"M18.56 5.44l.94 2.06.94-2.06 2.06-.94-2.06-.94-.94-2.06-.94 2.06-2.06.94zm-11 1L8.5 8.5l.94-2.06 2.06-.94-2.06-.94L8.5 2.5l-.94 2.06-2.06.94zm10 10l.94 2.06.94-2.06 2.06-.94-2.06-.94-.94-2.06-.94 2.06-2.06.94z\"/><path d=\"M17.41 7.96l-1.37-1.37c-.4-.4-.92-.59-1.43-.59-.52 0-1.04.2-1.43.59L10.3 9.45l-7.72 7.72c-.78.78-.78 2.05 0 2.83L4 21.41c.39.39.9.59 1.41.59.51 0 1.02-.2 1.41-.59l7.78-7.78 2.81-2.81c.8-.78.8-2.07 0-2.86zM5.41 20L4 18.59l7.72-7.72 1.47 1.35L5.41 20z\"/>\n",
              "  </svg>\n",
              "      </button>\n",
              "      \n",
              "  <style>\n",
              "    .colab-df-container {\n",
              "      display:flex;\n",
              "      flex-wrap:wrap;\n",
              "      gap: 12px;\n",
              "    }\n",
              "\n",
              "    .colab-df-convert {\n",
              "      background-color: #E8F0FE;\n",
              "      border: none;\n",
              "      border-radius: 50%;\n",
              "      cursor: pointer;\n",
              "      display: none;\n",
              "      fill: #1967D2;\n",
              "      height: 32px;\n",
              "      padding: 0 0 0 0;\n",
              "      width: 32px;\n",
              "    }\n",
              "\n",
              "    .colab-df-convert:hover {\n",
              "      background-color: #E2EBFA;\n",
              "      box-shadow: 0px 1px 2px rgba(60, 64, 67, 0.3), 0px 1px 3px 1px rgba(60, 64, 67, 0.15);\n",
              "      fill: #174EA6;\n",
              "    }\n",
              "\n",
              "    [theme=dark] .colab-df-convert {\n",
              "      background-color: #3B4455;\n",
              "      fill: #D2E3FC;\n",
              "    }\n",
              "\n",
              "    [theme=dark] .colab-df-convert:hover {\n",
              "      background-color: #434B5C;\n",
              "      box-shadow: 0px 1px 3px 1px rgba(0, 0, 0, 0.15);\n",
              "      filter: drop-shadow(0px 1px 2px rgba(0, 0, 0, 0.3));\n",
              "      fill: #FFFFFF;\n",
              "    }\n",
              "  </style>\n",
              "\n",
              "      <script>\n",
              "        const buttonEl =\n",
              "          document.querySelector('#df-109cf4c3-6f35-4d43-adc9-6ceb1beec8ab button.colab-df-convert');\n",
              "        buttonEl.style.display =\n",
              "          google.colab.kernel.accessAllowed ? 'block' : 'none';\n",
              "\n",
              "        async function convertToInteractive(key) {\n",
              "          const element = document.querySelector('#df-109cf4c3-6f35-4d43-adc9-6ceb1beec8ab');\n",
              "          const dataTable =\n",
              "            await google.colab.kernel.invokeFunction('convertToInteractive',\n",
              "                                                     [key], {});\n",
              "          if (!dataTable) return;\n",
              "\n",
              "          const docLinkHtml = 'Like what you see? Visit the ' +\n",
              "            '<a target=\"_blank\" href=https://colab.research.google.com/notebooks/data_table.ipynb>data table notebook</a>'\n",
              "            + ' to learn more about interactive tables.';\n",
              "          element.innerHTML = '';\n",
              "          dataTable['output_type'] = 'display_data';\n",
              "          await google.colab.output.renderOutput(dataTable, element);\n",
              "          const docLink = document.createElement('div');\n",
              "          docLink.innerHTML = docLinkHtml;\n",
              "          element.appendChild(docLink);\n",
              "        }\n",
              "      </script>\n",
              "    </div>\n",
              "  </div>\n",
              "  "
            ]
          },
          "metadata": {},
          "execution_count": 4
        }
      ]
    },
    {
      "cell_type": "code",
      "source": [
        "print('Antes de borrar registros: ',df_SECOP0.shape)\n",
        "for col in df_SECOP0.columns:\n",
        "    missing = df_SECOP0[col].isnull()\n",
        "    num_missing = np.sum(missing)\n",
        "    \n",
        "    if num_missing > 0:  \n",
        "        print('created missing indicator for: {}'.format(col))\n",
        "        df_SECOP0['{}_ismissing'.format(col)] = missing\n",
        "ismissing_cols = [col for col in df_SECOP0.columns if 'ismissing' in col]\n",
        "df_SECOP0['num_missing'] = df_SECOP0[ismissing_cols].sum(axis=1)"
      ],
      "metadata": {
        "colab": {
          "base_uri": "https://localhost:8080/"
        },
        "id": "y7Qiu-QHSU4e",
        "outputId": "0395eb51-610b-4a38-9133-c0d8fbdbf742"
      },
      "execution_count": 5,
      "outputs": [
        {
          "output_type": "stream",
          "name": "stdout",
          "text": [
            "Antes de borrar registros:  (1688334, 26)\n",
            "created missing indicator for: Referencia del Proceso\n",
            "created missing indicator for: Nombre del Procedimiento\n",
            "created missing indicator for: Fecha de Publicacion del Proceso\n",
            "created missing indicator for: Fecha de Ultima Publicación\n",
            "created missing indicator for: NIT del Proveedor Adjudicado\n"
          ]
        }
      ]
    },
    {
      "cell_type": "code",
      "source": [
        "ind_missing = df_SECOP0[df_SECOP0['num_missing'] >= 1].index\n",
        "df_less_missing_rows = df_SECOP0.drop(ind_missing, axis=0)\n",
        "df_less_missing_rows = df_less_missing_rows[columns]\n",
        "print('Antes de borrar registros: ',df_SECOP0.shape)\n",
        "print('Después de borrar registros: ',df_less_missing_rows.shape)\n",
        "print('Cantidad registros borrados: ',df_SECOP0.shape[0]-df_less_missing_rows.shape[0])"
      ],
      "metadata": {
        "colab": {
          "base_uri": "https://localhost:8080/"
        },
        "id": "NV1QSHlsQ3yD",
        "outputId": "3a4f77be-9eca-44f6-9f89-3bd581288c1a"
      },
      "execution_count": 6,
      "outputs": [
        {
          "output_type": "stream",
          "name": "stdout",
          "text": [
            "Antes de borrar registros:  (1688334, 32)\n",
            "Después de borrar registros:  (1686896, 26)\n",
            "Cantidad registros borrados:  1438\n"
          ]
        }
      ]
    },
    {
      "cell_type": "code",
      "source": [
        "df_dedupped = df_SECOP.drop_duplicates()\n",
        "print('Antes de quitar duplicados: ',df_SECOP.shape)\n",
        "print('Después de borrar registros: ',df_dedupped.shape)\n",
        "print('Cantidad registros borrados: ',df_SECOP.shape[0]-df_dedupped.shape[0])"
      ],
      "metadata": {
        "colab": {
          "base_uri": "https://localhost:8080/"
        },
        "id": "3i-T15ouTPhU",
        "outputId": "8f3af000-7ae5-405c-f2aa-e360ebeefa9f"
      },
      "execution_count": 10,
      "outputs": [
        {
          "output_type": "stream",
          "name": "stdout",
          "text": [
            "Antes de quitar duplicados:  (1688334, 59)\n",
            "Después de borrar registros:  (1688331, 59)\n",
            "Cantidad registros borrados:  3\n"
          ]
        }
      ]
    },
    {
      "cell_type": "code",
      "source": [
        "df_SECOP_C = df_less_missing_rows\n",
        "df_dedupped_SECOP = df_SECOP_C.drop_duplicates()\n",
        "\n",
        "print('Antes de quitar duplicados de la base sin datos faltantes: ',df_SECOP_C.shape)\n",
        "print('Después de borrar registros: ',df_dedupped_SECOP.shape)\n",
        "print('Cantidad registros borrados: ',df_SECOP_C.shape[0]-df_dedupped_SECOP.shape[0])"
      ],
      "metadata": {
        "colab": {
          "base_uri": "https://localhost:8080/"
        },
        "id": "B2P3cblvUL4Q",
        "outputId": "50417c65-2bf4-402d-8508-f2e9eab8ec93"
      },
      "execution_count": 12,
      "outputs": [
        {
          "output_type": "stream",
          "name": "stdout",
          "text": [
            "Antes de quitar duplicados de la base sin datos faltantes:  (1686896, 26)\n",
            "Después de borrar registros:  (1686893, 26)\n",
            "Cantidad registros borrados:  3\n"
          ]
        }
      ]
    },
    {
      "cell_type": "code",
      "source": [
        "df_dedupped_SECOP['EventCount'] = df_dedupped_SECOP['Nit Entidad'].str.len()\n",
        "df_consistency_SECOP = df_dedupped_SECOP[df_dedupped_SECOP['EventCount'] >= 9 ]"
      ],
      "metadata": {
        "colab": {
          "base_uri": "https://localhost:8080/"
        },
        "id": "9feMDUS7VRQi",
        "outputId": "2d0ee0a2-463b-440c-9a83-563924651dcf"
      },
      "execution_count": 14,
      "outputs": [
        {
          "output_type": "stream",
          "name": "stderr",
          "text": [
            "/usr/local/lib/python3.7/dist-packages/ipykernel_launcher.py:1: SettingWithCopyWarning: \n",
            "A value is trying to be set on a copy of a slice from a DataFrame.\n",
            "Try using .loc[row_indexer,col_indexer] = value instead\n",
            "\n",
            "See the caveats in the documentation: https://pandas.pydata.org/pandas-docs/stable/user_guide/indexing.html#returning-a-view-versus-a-copy\n",
            "  \"\"\"Entry point for launching an IPython kernel.\n"
          ]
        }
      ]
    },
    {
      "cell_type": "markdown",
      "metadata": {
        "id": "fkA-pbFJMsTt"
      },
      "source": [
        "# Ejercicio Fechas Publicación"
      ]
    },
    {
      "cell_type": "markdown",
      "metadata": {
        "id": "YB7kCF8YMsTt"
      },
      "source": [
        "Teniendo en cuenta que existe una Fecha de Publicación del Proceso y una fecha de última publicación, realice la limpieza de formato de dichas variables. Defina una nueva variable en la que se calcule la diferencia de éstas dos fechas y responda si incluiría las dos fechas dentro de la fuente de datos.\n",
        "\n",
        "*Utilice estadísticas descriptivas para responder la pregunta*"
      ]
    },
    {
      "cell_type": "code",
      "source": [
        "df_consistency_SECOP['Fecha de Publicacion del Proceso'] = pd.to_datetime(df_consistency_SECOP['Fecha de Publicacion del Proceso'],format='%m/%d/%Y')\n",
        "df_consistency_SECOP['Fecha de Ultima Publicación'] = pd.to_datetime(df_consistency_SECOP['Fecha de Ultima Publicación'],format='%m/%d/%Y')\n",
        "df_consistency_SECOP.dtypes"
      ],
      "metadata": {
        "colab": {
          "base_uri": "https://localhost:8080/"
        },
        "id": "V7WzvniNTt2N",
        "outputId": "fe5b0e17-c39c-434e-d305-89680ddc2e1a"
      },
      "execution_count": 16,
      "outputs": [
        {
          "output_type": "stream",
          "name": "stderr",
          "text": [
            "/usr/local/lib/python3.7/dist-packages/ipykernel_launcher.py:1: SettingWithCopyWarning: \n",
            "A value is trying to be set on a copy of a slice from a DataFrame.\n",
            "Try using .loc[row_indexer,col_indexer] = value instead\n",
            "\n",
            "See the caveats in the documentation: https://pandas.pydata.org/pandas-docs/stable/user_guide/indexing.html#returning-a-view-versus-a-copy\n",
            "  \"\"\"Entry point for launching an IPython kernel.\n",
            "/usr/local/lib/python3.7/dist-packages/ipykernel_launcher.py:2: SettingWithCopyWarning: \n",
            "A value is trying to be set on a copy of a slice from a DataFrame.\n",
            "Try using .loc[row_indexer,col_indexer] = value instead\n",
            "\n",
            "See the caveats in the documentation: https://pandas.pydata.org/pandas-docs/stable/user_guide/indexing.html#returning-a-view-versus-a-copy\n",
            "  \n"
          ]
        },
        {
          "output_type": "execute_result",
          "data": {
            "text/plain": [
              "Entidad                                     object\n",
              "Nit Entidad                                 object\n",
              "Departamento Entidad                        object\n",
              "Ciudad Entidad                              object\n",
              "OrdenEntidad                                object\n",
              "ID del Proceso                              object\n",
              "Referencia del Proceso                      object\n",
              "ID del Portafolio                           object\n",
              "Nombre del Procedimiento                    object\n",
              "Fase                                        object\n",
              "Fecha de Publicacion del Proceso    datetime64[ns]\n",
              "Fecha de Ultima Publicación         datetime64[ns]\n",
              "Precio Base                                  int64\n",
              "Modalidad de Contratacion                   object\n",
              "Duracion                                     int64\n",
              "Unidad de Duracion                          object\n",
              "Adjudicado                                  object\n",
              "ID Adjudicacion                             object\n",
              "CodigoProveedor                             object\n",
              "Nombre del Proveedor Adjudicado             object\n",
              "NIT del Proveedor Adjudicado                object\n",
              "Departamento Proveedor                      object\n",
              "Ciudad Proveedor                            object\n",
              "Valor Total Adjudicacion                     int64\n",
              "Tipo de Contrato                            object\n",
              "Subtipo de Contrato                         object\n",
              "EventCount                                   int64\n",
              "dtype: object"
            ]
          },
          "metadata": {},
          "execution_count": 16
        }
      ]
    },
    {
      "cell_type": "markdown",
      "source": [
        "**Resta de las fechas**"
      ],
      "metadata": {
        "id": "ma8badEFXMCb"
      }
    },
    {
      "cell_type": "code",
      "source": [
        "Dif_fechas = df_consistency_SECOP['Fecha de Publicacion del Proceso'] - df_consistency_SECOP['Fecha de Ultima Publicación']\n",
        "Dif_fechas.describe()"
      ],
      "metadata": {
        "colab": {
          "base_uri": "https://localhost:8080/"
        },
        "id": "tvslH610XPCp",
        "outputId": "53318702-115c-45af-daae-fcc59d000db4"
      },
      "execution_count": 21,
      "outputs": [
        {
          "output_type": "execute_result",
          "data": {
            "text/plain": [
              "count                      1684917\n",
              "mean     0 days 03:54:11.485740840\n",
              "std      0 days 08:51:24.239364293\n",
              "min                0 days 00:00:00\n",
              "25%                0 days 00:00:00\n",
              "50%                0 days 00:00:00\n",
              "75%                0 days 00:00:00\n",
              "max                1 days 00:00:00\n",
              "dtype: object"
            ]
          },
          "metadata": {},
          "execution_count": 21
        }
      ]
    },
    {
      "cell_type": "code",
      "source": [
        "Dif_fechas.value_counts()"
      ],
      "metadata": {
        "colab": {
          "base_uri": "https://localhost:8080/"
        },
        "id": "euXS2VtyaGmX",
        "outputId": "a9125fa0-1ba9-49de-a578-20151d0a41d6"
      },
      "execution_count": 22,
      "outputs": [
        {
          "output_type": "execute_result",
          "data": {
            "text/plain": [
              "0 days    1410894\n",
              "1 days     274023\n",
              "dtype: int64"
            ]
          },
          "metadata": {},
          "execution_count": 22
        }
      ]
    },
    {
      "cell_type": "markdown",
      "source": [
        "En mas del 50% de las observaciones la fecha de publicación del proceso y la fecha de la última publicación coinciden. Adicionalmente, en los casos donde esto no ocurre se tiene una diferencia de unicamente un día, por lo cual se considera mejor eliminar la fecha de publicación del proceso y dejar la fecha ,as reciente, la ultima fecha de publicación."
      ],
      "metadata": {
        "id": "a7ZZJZzhZGjJ"
      }
    },
    {
      "cell_type": "markdown",
      "metadata": {
        "id": "34ByiWLyMsTx"
      },
      "source": [
        "## Ejercicio Tipo de Contrato y Subtipo de Contrato\n",
        "De acuerdo con las variables Contrato y Subcontrato, realice una tabla cruzada y responda ¿Vale la pena dejar ambas variables en la fuente de datos?"
      ]
    },
    {
      "cell_type": "code",
      "execution_count": 25,
      "metadata": {
        "ExecuteTime": {
          "end_time": "2021-03-01T03:40:17.320326Z",
          "start_time": "2021-03-01T03:40:16.982353Z"
        },
        "id": "sju8p8hvMsTy",
        "colab": {
          "base_uri": "https://localhost:8080/",
          "height": 614
        },
        "outputId": "af1959ad-64af-49a3-c561-be135b1e4026"
      },
      "outputs": [
        {
          "output_type": "execute_result",
          "data": {
            "text/plain": [
              "Subtipo de Contrato             No Especificado\n",
              "Tipo de Contrato                               \n",
              "27 - Otros servicios                      75058\n",
              "Acuerdo Marco                              1092\n",
              "Alquiler de edificios                     14759\n",
              "Arrendamiento Muebles                      1159\n",
              "Comisión                                    116\n",
              "Compraventa                               62272\n",
              "Concesión                                   146\n",
              "Consultoría                                6007\n",
              "Decreto 092 de 2017                       58583\n",
              "Interventoría                              7046\n",
              "ND                                        51512\n",
              "No Especificado                              17\n",
              "Obra                                      24662\n",
              "Seguros                                    4216\n",
              "Servicios de aprovisionamiento          1306192\n",
              "Suministros                               71892\n",
              "Ventas de muebles                           188"
            ],
            "text/html": [
              "\n",
              "  <div id=\"df-28c9d045-6071-4795-89b1-57493424567d\">\n",
              "    <div class=\"colab-df-container\">\n",
              "      <div>\n",
              "<style scoped>\n",
              "    .dataframe tbody tr th:only-of-type {\n",
              "        vertical-align: middle;\n",
              "    }\n",
              "\n",
              "    .dataframe tbody tr th {\n",
              "        vertical-align: top;\n",
              "    }\n",
              "\n",
              "    .dataframe thead th {\n",
              "        text-align: right;\n",
              "    }\n",
              "</style>\n",
              "<table border=\"1\" class=\"dataframe\">\n",
              "  <thead>\n",
              "    <tr style=\"text-align: right;\">\n",
              "      <th>Subtipo de Contrato</th>\n",
              "      <th>No Especificado</th>\n",
              "    </tr>\n",
              "    <tr>\n",
              "      <th>Tipo de Contrato</th>\n",
              "      <th></th>\n",
              "    </tr>\n",
              "  </thead>\n",
              "  <tbody>\n",
              "    <tr>\n",
              "      <th>27 - Otros servicios</th>\n",
              "      <td>75058</td>\n",
              "    </tr>\n",
              "    <tr>\n",
              "      <th>Acuerdo Marco</th>\n",
              "      <td>1092</td>\n",
              "    </tr>\n",
              "    <tr>\n",
              "      <th>Alquiler de edificios</th>\n",
              "      <td>14759</td>\n",
              "    </tr>\n",
              "    <tr>\n",
              "      <th>Arrendamiento Muebles</th>\n",
              "      <td>1159</td>\n",
              "    </tr>\n",
              "    <tr>\n",
              "      <th>Comisión</th>\n",
              "      <td>116</td>\n",
              "    </tr>\n",
              "    <tr>\n",
              "      <th>Compraventa</th>\n",
              "      <td>62272</td>\n",
              "    </tr>\n",
              "    <tr>\n",
              "      <th>Concesión</th>\n",
              "      <td>146</td>\n",
              "    </tr>\n",
              "    <tr>\n",
              "      <th>Consultoría</th>\n",
              "      <td>6007</td>\n",
              "    </tr>\n",
              "    <tr>\n",
              "      <th>Decreto 092 de 2017</th>\n",
              "      <td>58583</td>\n",
              "    </tr>\n",
              "    <tr>\n",
              "      <th>Interventoría</th>\n",
              "      <td>7046</td>\n",
              "    </tr>\n",
              "    <tr>\n",
              "      <th>ND</th>\n",
              "      <td>51512</td>\n",
              "    </tr>\n",
              "    <tr>\n",
              "      <th>No Especificado</th>\n",
              "      <td>17</td>\n",
              "    </tr>\n",
              "    <tr>\n",
              "      <th>Obra</th>\n",
              "      <td>24662</td>\n",
              "    </tr>\n",
              "    <tr>\n",
              "      <th>Seguros</th>\n",
              "      <td>4216</td>\n",
              "    </tr>\n",
              "    <tr>\n",
              "      <th>Servicios de aprovisionamiento</th>\n",
              "      <td>1306192</td>\n",
              "    </tr>\n",
              "    <tr>\n",
              "      <th>Suministros</th>\n",
              "      <td>71892</td>\n",
              "    </tr>\n",
              "    <tr>\n",
              "      <th>Ventas de muebles</th>\n",
              "      <td>188</td>\n",
              "    </tr>\n",
              "  </tbody>\n",
              "</table>\n",
              "</div>\n",
              "      <button class=\"colab-df-convert\" onclick=\"convertToInteractive('df-28c9d045-6071-4795-89b1-57493424567d')\"\n",
              "              title=\"Convert this dataframe to an interactive table.\"\n",
              "              style=\"display:none;\">\n",
              "        \n",
              "  <svg xmlns=\"http://www.w3.org/2000/svg\" height=\"24px\"viewBox=\"0 0 24 24\"\n",
              "       width=\"24px\">\n",
              "    <path d=\"M0 0h24v24H0V0z\" fill=\"none\"/>\n",
              "    <path d=\"M18.56 5.44l.94 2.06.94-2.06 2.06-.94-2.06-.94-.94-2.06-.94 2.06-2.06.94zm-11 1L8.5 8.5l.94-2.06 2.06-.94-2.06-.94L8.5 2.5l-.94 2.06-2.06.94zm10 10l.94 2.06.94-2.06 2.06-.94-2.06-.94-.94-2.06-.94 2.06-2.06.94z\"/><path d=\"M17.41 7.96l-1.37-1.37c-.4-.4-.92-.59-1.43-.59-.52 0-1.04.2-1.43.59L10.3 9.45l-7.72 7.72c-.78.78-.78 2.05 0 2.83L4 21.41c.39.39.9.59 1.41.59.51 0 1.02-.2 1.41-.59l7.78-7.78 2.81-2.81c.8-.78.8-2.07 0-2.86zM5.41 20L4 18.59l7.72-7.72 1.47 1.35L5.41 20z\"/>\n",
              "  </svg>\n",
              "      </button>\n",
              "      \n",
              "  <style>\n",
              "    .colab-df-container {\n",
              "      display:flex;\n",
              "      flex-wrap:wrap;\n",
              "      gap: 12px;\n",
              "    }\n",
              "\n",
              "    .colab-df-convert {\n",
              "      background-color: #E8F0FE;\n",
              "      border: none;\n",
              "      border-radius: 50%;\n",
              "      cursor: pointer;\n",
              "      display: none;\n",
              "      fill: #1967D2;\n",
              "      height: 32px;\n",
              "      padding: 0 0 0 0;\n",
              "      width: 32px;\n",
              "    }\n",
              "\n",
              "    .colab-df-convert:hover {\n",
              "      background-color: #E2EBFA;\n",
              "      box-shadow: 0px 1px 2px rgba(60, 64, 67, 0.3), 0px 1px 3px 1px rgba(60, 64, 67, 0.15);\n",
              "      fill: #174EA6;\n",
              "    }\n",
              "\n",
              "    [theme=dark] .colab-df-convert {\n",
              "      background-color: #3B4455;\n",
              "      fill: #D2E3FC;\n",
              "    }\n",
              "\n",
              "    [theme=dark] .colab-df-convert:hover {\n",
              "      background-color: #434B5C;\n",
              "      box-shadow: 0px 1px 3px 1px rgba(0, 0, 0, 0.15);\n",
              "      filter: drop-shadow(0px 1px 2px rgba(0, 0, 0, 0.3));\n",
              "      fill: #FFFFFF;\n",
              "    }\n",
              "  </style>\n",
              "\n",
              "      <script>\n",
              "        const buttonEl =\n",
              "          document.querySelector('#df-28c9d045-6071-4795-89b1-57493424567d button.colab-df-convert');\n",
              "        buttonEl.style.display =\n",
              "          google.colab.kernel.accessAllowed ? 'block' : 'none';\n",
              "\n",
              "        async function convertToInteractive(key) {\n",
              "          const element = document.querySelector('#df-28c9d045-6071-4795-89b1-57493424567d');\n",
              "          const dataTable =\n",
              "            await google.colab.kernel.invokeFunction('convertToInteractive',\n",
              "                                                     [key], {});\n",
              "          if (!dataTable) return;\n",
              "\n",
              "          const docLinkHtml = 'Like what you see? Visit the ' +\n",
              "            '<a target=\"_blank\" href=https://colab.research.google.com/notebooks/data_table.ipynb>data table notebook</a>'\n",
              "            + ' to learn more about interactive tables.';\n",
              "          element.innerHTML = '';\n",
              "          dataTable['output_type'] = 'display_data';\n",
              "          await google.colab.output.renderOutput(dataTable, element);\n",
              "          const docLink = document.createElement('div');\n",
              "          docLink.innerHTML = docLinkHtml;\n",
              "          element.appendChild(docLink);\n",
              "        }\n",
              "      </script>\n",
              "    </div>\n",
              "  </div>\n",
              "  "
            ]
          },
          "metadata": {},
          "execution_count": 25
        }
      ],
      "source": [
        "tab1 = pd.crosstab(df_consistency_SECOP[\"Tipo de Contrato\"],df_consistency_SECOP[\"Subtipo de Contrato\"])\n",
        "tab1"
      ]
    },
    {
      "cell_type": "code",
      "source": [
        "df_consistency_SECOP[\"Subtipo de Contrato\"].value_counts()"
      ],
      "metadata": {
        "colab": {
          "base_uri": "https://localhost:8080/"
        },
        "id": "WirSoZv_cCw5",
        "outputId": "4163f528-5117-409e-cb7c-19531b2bf330"
      },
      "execution_count": 26,
      "outputs": [
        {
          "output_type": "execute_result",
          "data": {
            "text/plain": [
              "No Especificado    1684917\n",
              "Name: Subtipo de Contrato, dtype: int64"
            ]
          },
          "metadata": {},
          "execution_count": 26
        }
      ]
    },
    {
      "cell_type": "markdown",
      "source": [
        "Dado que el subtipo de contrato posee únicamente el nivel \"No Especificado\" no vale la pena dejarla en la base de datos. Sin embargo, podría dejarse la variable \"Tipo de contrato\", puesto que este si posee varios factores y, dependiendo la necesidad, podría usarse en procedimientos posteriores."
      ],
      "metadata": {
        "id": "MX3b-hsOcmFY"
      }
    },
    {
      "cell_type": "markdown",
      "metadata": {
        "id": "nEc8JoDRMsTz"
      },
      "source": [
        "## Ejercicio Duración del contrato\n",
        "Teniendo en cuenta que la duración de los contratos tiene métricas diferentes, encuentre una estrategia para crear una nueva variable en la cuál se encuentre parametrizada la variable de duración del contrato."
      ]
    },
    {
      "cell_type": "code",
      "execution_count": 35,
      "metadata": {
        "ExecuteTime": {
          "end_time": "2021-03-01T03:42:27.614051Z",
          "start_time": "2021-03-01T03:42:27.495282Z"
        },
        "id": "uiknCswmMsT0",
        "outputId": "7b2d4446-35f9-44fa-af06-6c242c58251e",
        "colab": {
          "base_uri": "https://localhost:8080/"
        }
      },
      "outputs": [
        {
          "output_type": "execute_result",
          "data": {
            "text/plain": [
              "Dias     840340\n",
              "Meses    753211\n",
              "ND        78663\n",
              "Años      12703\n",
              "Name: Unidad de Duracion, dtype: int64"
            ]
          },
          "metadata": {},
          "execution_count": 35
        }
      ],
      "source": [
        "df_consistency_SECOP['Unidad de Duracion'].value_counts()"
      ]
    },
    {
      "cell_type": "code",
      "execution_count": 65,
      "metadata": {
        "ExecuteTime": {
          "end_time": "2021-03-01T03:42:27.708467Z",
          "start_time": "2021-03-01T03:42:27.617595Z"
        },
        "scrolled": true,
        "id": "bjKeNHrKMsT1",
        "outputId": "627201e9-f3ae-41bc-fffc-1627db30c1e3",
        "colab": {
          "base_uri": "https://localhost:8080/",
          "height": 677
        }
      },
      "outputs": [
        {
          "output_type": "execute_result",
          "data": {
            "text/plain": [
              "    Unidad de Duracion  Duracion\n",
              "22               Meses         6\n",
              "23                Dias       240\n",
              "48                Dias        70\n",
              "61                Dias       105\n",
              "63                Dias        45\n",
              "74                Dias        30\n",
              "104              Meses         8\n",
              "117              Meses         4\n",
              "119               Dias       250\n",
              "144              Meses         9\n",
              "150              Meses         3\n",
              "152              Meses        10\n",
              "159               Dias        91\n",
              "165               Dias       120\n",
              "178               Dias       140\n",
              "182              Meses         5\n",
              "183               Dias       120\n",
              "203              Meses        11\n",
              "213              Meses         2\n",
              "259              Meses         3"
            ],
            "text/html": [
              "\n",
              "  <div id=\"df-931c5b58-1ba2-40c3-acb3-03f7efc6184a\">\n",
              "    <div class=\"colab-df-container\">\n",
              "      <div>\n",
              "<style scoped>\n",
              "    .dataframe tbody tr th:only-of-type {\n",
              "        vertical-align: middle;\n",
              "    }\n",
              "\n",
              "    .dataframe tbody tr th {\n",
              "        vertical-align: top;\n",
              "    }\n",
              "\n",
              "    .dataframe thead th {\n",
              "        text-align: right;\n",
              "    }\n",
              "</style>\n",
              "<table border=\"1\" class=\"dataframe\">\n",
              "  <thead>\n",
              "    <tr style=\"text-align: right;\">\n",
              "      <th></th>\n",
              "      <th>Unidad de Duracion</th>\n",
              "      <th>Duracion</th>\n",
              "    </tr>\n",
              "  </thead>\n",
              "  <tbody>\n",
              "    <tr>\n",
              "      <th>22</th>\n",
              "      <td>Meses</td>\n",
              "      <td>6</td>\n",
              "    </tr>\n",
              "    <tr>\n",
              "      <th>23</th>\n",
              "      <td>Dias</td>\n",
              "      <td>240</td>\n",
              "    </tr>\n",
              "    <tr>\n",
              "      <th>48</th>\n",
              "      <td>Dias</td>\n",
              "      <td>70</td>\n",
              "    </tr>\n",
              "    <tr>\n",
              "      <th>61</th>\n",
              "      <td>Dias</td>\n",
              "      <td>105</td>\n",
              "    </tr>\n",
              "    <tr>\n",
              "      <th>63</th>\n",
              "      <td>Dias</td>\n",
              "      <td>45</td>\n",
              "    </tr>\n",
              "    <tr>\n",
              "      <th>74</th>\n",
              "      <td>Dias</td>\n",
              "      <td>30</td>\n",
              "    </tr>\n",
              "    <tr>\n",
              "      <th>104</th>\n",
              "      <td>Meses</td>\n",
              "      <td>8</td>\n",
              "    </tr>\n",
              "    <tr>\n",
              "      <th>117</th>\n",
              "      <td>Meses</td>\n",
              "      <td>4</td>\n",
              "    </tr>\n",
              "    <tr>\n",
              "      <th>119</th>\n",
              "      <td>Dias</td>\n",
              "      <td>250</td>\n",
              "    </tr>\n",
              "    <tr>\n",
              "      <th>144</th>\n",
              "      <td>Meses</td>\n",
              "      <td>9</td>\n",
              "    </tr>\n",
              "    <tr>\n",
              "      <th>150</th>\n",
              "      <td>Meses</td>\n",
              "      <td>3</td>\n",
              "    </tr>\n",
              "    <tr>\n",
              "      <th>152</th>\n",
              "      <td>Meses</td>\n",
              "      <td>10</td>\n",
              "    </tr>\n",
              "    <tr>\n",
              "      <th>159</th>\n",
              "      <td>Dias</td>\n",
              "      <td>91</td>\n",
              "    </tr>\n",
              "    <tr>\n",
              "      <th>165</th>\n",
              "      <td>Dias</td>\n",
              "      <td>120</td>\n",
              "    </tr>\n",
              "    <tr>\n",
              "      <th>178</th>\n",
              "      <td>Dias</td>\n",
              "      <td>140</td>\n",
              "    </tr>\n",
              "    <tr>\n",
              "      <th>182</th>\n",
              "      <td>Meses</td>\n",
              "      <td>5</td>\n",
              "    </tr>\n",
              "    <tr>\n",
              "      <th>183</th>\n",
              "      <td>Dias</td>\n",
              "      <td>120</td>\n",
              "    </tr>\n",
              "    <tr>\n",
              "      <th>203</th>\n",
              "      <td>Meses</td>\n",
              "      <td>11</td>\n",
              "    </tr>\n",
              "    <tr>\n",
              "      <th>213</th>\n",
              "      <td>Meses</td>\n",
              "      <td>2</td>\n",
              "    </tr>\n",
              "    <tr>\n",
              "      <th>259</th>\n",
              "      <td>Meses</td>\n",
              "      <td>3</td>\n",
              "    </tr>\n",
              "  </tbody>\n",
              "</table>\n",
              "</div>\n",
              "      <button class=\"colab-df-convert\" onclick=\"convertToInteractive('df-931c5b58-1ba2-40c3-acb3-03f7efc6184a')\"\n",
              "              title=\"Convert this dataframe to an interactive table.\"\n",
              "              style=\"display:none;\">\n",
              "        \n",
              "  <svg xmlns=\"http://www.w3.org/2000/svg\" height=\"24px\"viewBox=\"0 0 24 24\"\n",
              "       width=\"24px\">\n",
              "    <path d=\"M0 0h24v24H0V0z\" fill=\"none\"/>\n",
              "    <path d=\"M18.56 5.44l.94 2.06.94-2.06 2.06-.94-2.06-.94-.94-2.06-.94 2.06-2.06.94zm-11 1L8.5 8.5l.94-2.06 2.06-.94-2.06-.94L8.5 2.5l-.94 2.06-2.06.94zm10 10l.94 2.06.94-2.06 2.06-.94-2.06-.94-.94-2.06-.94 2.06-2.06.94z\"/><path d=\"M17.41 7.96l-1.37-1.37c-.4-.4-.92-.59-1.43-.59-.52 0-1.04.2-1.43.59L10.3 9.45l-7.72 7.72c-.78.78-.78 2.05 0 2.83L4 21.41c.39.39.9.59 1.41.59.51 0 1.02-.2 1.41-.59l7.78-7.78 2.81-2.81c.8-.78.8-2.07 0-2.86zM5.41 20L4 18.59l7.72-7.72 1.47 1.35L5.41 20z\"/>\n",
              "  </svg>\n",
              "      </button>\n",
              "      \n",
              "  <style>\n",
              "    .colab-df-container {\n",
              "      display:flex;\n",
              "      flex-wrap:wrap;\n",
              "      gap: 12px;\n",
              "    }\n",
              "\n",
              "    .colab-df-convert {\n",
              "      background-color: #E8F0FE;\n",
              "      border: none;\n",
              "      border-radius: 50%;\n",
              "      cursor: pointer;\n",
              "      display: none;\n",
              "      fill: #1967D2;\n",
              "      height: 32px;\n",
              "      padding: 0 0 0 0;\n",
              "      width: 32px;\n",
              "    }\n",
              "\n",
              "    .colab-df-convert:hover {\n",
              "      background-color: #E2EBFA;\n",
              "      box-shadow: 0px 1px 2px rgba(60, 64, 67, 0.3), 0px 1px 3px 1px rgba(60, 64, 67, 0.15);\n",
              "      fill: #174EA6;\n",
              "    }\n",
              "\n",
              "    [theme=dark] .colab-df-convert {\n",
              "      background-color: #3B4455;\n",
              "      fill: #D2E3FC;\n",
              "    }\n",
              "\n",
              "    [theme=dark] .colab-df-convert:hover {\n",
              "      background-color: #434B5C;\n",
              "      box-shadow: 0px 1px 3px 1px rgba(0, 0, 0, 0.15);\n",
              "      filter: drop-shadow(0px 1px 2px rgba(0, 0, 0, 0.3));\n",
              "      fill: #FFFFFF;\n",
              "    }\n",
              "  </style>\n",
              "\n",
              "      <script>\n",
              "        const buttonEl =\n",
              "          document.querySelector('#df-931c5b58-1ba2-40c3-acb3-03f7efc6184a button.colab-df-convert');\n",
              "        buttonEl.style.display =\n",
              "          google.colab.kernel.accessAllowed ? 'block' : 'none';\n",
              "\n",
              "        async function convertToInteractive(key) {\n",
              "          const element = document.querySelector('#df-931c5b58-1ba2-40c3-acb3-03f7efc6184a');\n",
              "          const dataTable =\n",
              "            await google.colab.kernel.invokeFunction('convertToInteractive',\n",
              "                                                     [key], {});\n",
              "          if (!dataTable) return;\n",
              "\n",
              "          const docLinkHtml = 'Like what you see? Visit the ' +\n",
              "            '<a target=\"_blank\" href=https://colab.research.google.com/notebooks/data_table.ipynb>data table notebook</a>'\n",
              "            + ' to learn more about interactive tables.';\n",
              "          element.innerHTML = '';\n",
              "          dataTable['output_type'] = 'display_data';\n",
              "          await google.colab.output.renderOutput(dataTable, element);\n",
              "          const docLink = document.createElement('div');\n",
              "          docLink.innerHTML = docLinkHtml;\n",
              "          element.appendChild(docLink);\n",
              "        }\n",
              "      </script>\n",
              "    </div>\n",
              "  </div>\n",
              "  "
            ]
          },
          "metadata": {},
          "execution_count": 65
        }
      ],
      "source": [
        "df_consistency_SECOP[['Unidad de Duracion','Duracion']].head(20)"
      ]
    },
    {
      "cell_type": "markdown",
      "source": [
        "**1) Eliminación de los registros \"ND\"**\n",
        "Esto dado que no se especifíca un periodo de tiempo o de duración, por lo que no sería posible realizar la conversión."
      ],
      "metadata": {
        "id": "pxgkbsRKdWnq"
      }
    },
    {
      "cell_type": "code",
      "execution_count": 37,
      "metadata": {
        "ExecuteTime": {
          "end_time": "2021-03-01T03:40:17.679774Z",
          "start_time": "2021-03-01T03:40:17.529373Z"
        },
        "id": "F1H7VsOxMsT2",
        "colab": {
          "base_uri": "https://localhost:8080/"
        },
        "outputId": "f47f24af-e578-42d6-a9dc-e1a399b97a01"
      },
      "outputs": [
        {
          "output_type": "execute_result",
          "data": {
            "text/plain": [
              "Dias     840340\n",
              "Meses    753211\n",
              "Años      12703\n",
              "Name: Unidad de Duracion, dtype: int64"
            ]
          },
          "metadata": {},
          "execution_count": 37
        }
      ],
      "source": [
        "df_consistency_SECOP = df_consistency_SECOP[(df_consistency_SECOP['Unidad de Duracion'] != \"ND\")]\n",
        "df_consistency_SECOP['Unidad de Duracion'].value_counts()"
      ]
    },
    {
      "cell_type": "markdown",
      "source": [
        "**2) Conversión de fechas**. Condicionales. Dejarlos todos en un mismo formato, el cual será en este caso días. Para los años se multiplicara la cantidad por 360 y los meses por 30 respectivamente. Estos resultados se guardarán en una nueva variable llamada *Duración_2*"
      ],
      "metadata": {
        "id": "4T2eXmUIejbg"
      }
    },
    {
      "cell_type": "code",
      "source": [
        "df_consistency_SECOP['Duración_2'] = np.where(df_consistency_SECOP['Unidad de Duracion'] == \"Dias\", df_consistency_SECOP['Duracion'], \n",
        "                                              np.where(df_consistency_SECOP['Unidad de Duracion'] == \"Meses\", df_consistency_SECOP['Duracion']*30, \n",
        "                                                       np.where(df_consistency_SECOP['Unidad de Duracion'] == \"Años\", df_consistency_SECOP['Duracion']*360, \"otro\")))"
      ],
      "metadata": {
        "id": "MIk2CV6dfPB9"
      },
      "execution_count": 86,
      "outputs": []
    },
    {
      "cell_type": "code",
      "source": [
        "df_consistency_SECOP.sample(20)"
      ],
      "metadata": {
        "id": "zWqUHYRVmPKo"
      },
      "execution_count": null,
      "outputs": []
    }
  ],
  "metadata": {
    "kernelspec": {
      "display_name": "Python 3",
      "language": "python",
      "name": "python3"
    },
    "language_info": {
      "codemirror_mode": {
        "name": "ipython",
        "version": 3
      },
      "file_extension": ".py",
      "mimetype": "text/x-python",
      "name": "python",
      "nbconvert_exporter": "python",
      "pygments_lexer": "ipython3",
      "version": "3.8.5"
    },
    "toc": {
      "base_numbering": 1,
      "nav_menu": {},
      "number_sections": true,
      "sideBar": true,
      "skip_h1_title": false,
      "title_cell": "Table of Contents",
      "title_sidebar": "Contents",
      "toc_cell": true,
      "toc_position": {},
      "toc_section_display": true,
      "toc_window_display": false
    },
    "varInspector": {
      "cols": {
        "lenName": 16,
        "lenType": 16,
        "lenVar": 40
      },
      "kernels_config": {
        "python": {
          "delete_cmd_postfix": "",
          "delete_cmd_prefix": "del ",
          "library": "var_list.py",
          "varRefreshCmd": "print(var_dic_list())"
        },
        "r": {
          "delete_cmd_postfix": ") ",
          "delete_cmd_prefix": "rm(",
          "library": "var_list.r",
          "varRefreshCmd": "cat(var_dic_list()) "
        }
      },
      "types_to_exclude": [
        "module",
        "function",
        "builtin_function_or_method",
        "instance",
        "_Feature"
      ],
      "window_display": false
    },
    "colab": {
      "name": "Taller2_Limpieza_Transformacion_Datos.ipynb",
      "provenance": []
    }
  },
  "nbformat": 4,
  "nbformat_minor": 0
}